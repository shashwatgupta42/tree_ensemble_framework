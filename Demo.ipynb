{
 "cells": [
  {
   "cell_type": "code",
   "execution_count": 1,
   "id": "b2f12151-0a1a-4905-a74f-94f68d75cb08",
   "metadata": {},
   "outputs": [],
   "source": [
    "from decision_tree import *\n",
    "import numpy as np\n",
    "import random\n",
    "import matplotlib.pyplot as plt\n",
    "from ucimlrepo import fetch_ucirepo\n",
    "import sklearn.datasets"
   ]
  },
  {
   "cell_type": "markdown",
   "id": "719f445d-775b-4473-9618-8c2f25678eb2",
   "metadata": {},
   "source": [
    "This notebook contains demonstrations for Decision Tree, Bagging, Random Forest, Adaboost, Gradient Boost as written in the decsion_tree.py file for classfication and regression. \n",
    "\n",
    "For regression I'll be using the <b>California Housing Dataset</b> (https://scikit-learn.org/stable/modules/generated/sklearn.datasets.fetch_california_housing.html), and for classification I'll be using the <b>Banknote Authentication Dataset</b> (UCI ML Repository, https://archive.ics.uci.edu/dataset/267/banknote+authentication).\n",
    "\n"
   ]
  },
  {
   "cell_type": "markdown",
   "id": "0ecc9a74-4191-421d-b88f-9f99551b1c9b",
   "metadata": {},
   "source": [
    "<b> This is just a demo notebook and the attempt is not to get the maximum performance. </b>"
   ]
  },
  {
   "cell_type": "markdown",
   "id": "2ee00ac3-6b8f-4fe9-ad81-463309655d66",
   "metadata": {},
   "source": [
    "## Regression"
   ]
  },
  {
   "cell_type": "markdown",
   "id": "9ca314c2-74ad-4f9a-94b8-1aee1e926315",
   "metadata": {},
   "source": [
    "### Loading the dataset"
   ]
  },
  {
   "cell_type": "code",
   "execution_count": 33,
   "id": "599afae6-16b0-4b00-bded-f35e43fde7fd",
   "metadata": {},
   "outputs": [
    {
     "name": "stdout",
     "output_type": "stream",
     "text": [
      "X_reg shape: (2000, 8)\n",
      "y_reg shape: (2000,)\n"
     ]
    }
   ],
   "source": [
    "X_reg, y_reg = sklearn.datasets.fetch_california_housing(return_X_y=True)\n",
    "# The actual dataset is quite big, so I'll only use 2000 examples\n",
    "X_reg, y_reg = X_reg[:2000], y_reg[:2000]\n",
    "print(f\"X_reg shape: {X_reg.shape}\")\n",
    "print(f\"y_reg shape: {y_reg.shape}\")"
   ]
  },
  {
   "cell_type": "markdown",
   "id": "ebb53aa6-de2e-4425-982d-260805bace58",
   "metadata": {},
   "source": [
    "Splitting the dataset into training and testing sets (80:20 split)"
   ]
  },
  {
   "cell_type": "code",
   "execution_count": 38,
   "id": "f801a531-cfab-4207-b642-3132eb56c10b",
   "metadata": {},
   "outputs": [
    {
     "name": "stdout",
     "output_type": "stream",
     "text": [
      "X_reg_train shape: (1600, 8)\n",
      "y_reg_train shape: (1600,)\n",
      "X_reg_test shape: (400, 8)\n",
      "y_reg_test shape: (400,)\n"
     ]
    }
   ],
   "source": [
    "random_indices = list(range(X_reg.shape[0]))\n",
    "random.shuffle(random_indices)\n",
    "\n",
    "X_reg_train = X_reg[random_indices][:1600]\n",
    "y_reg_train = y_reg[random_indices][:1600]\n",
    "\n",
    "X_reg_test = X_reg[random_indices][1600:]\n",
    "y_reg_test =  y_reg[random_indices][1600:]\n",
    "\n",
    "print(f\"X_reg_train shape: {X_reg_train.shape}\")\n",
    "print(f\"y_reg_train shape: {y_reg_train.shape}\")\n",
    "print(f\"X_reg_test shape: {X_reg_test.shape}\")\n",
    "print(f\"y_reg_test shape: {y_reg_test.shape}\")"
   ]
  },
  {
   "cell_type": "code",
   "execution_count": 39,
   "id": "e313650b-2680-4141-9434-1060177313af",
   "metadata": {},
   "outputs": [],
   "source": [
    "DTR = DecisionTree(X_reg_train, y_reg_train, task='regression')"
   ]
  },
  {
   "cell_type": "code",
   "execution_count": 40,
   "id": "086a7eaa-87f4-459a-9388-6337d7c0a35a",
   "metadata": {
    "scrolled": true
   },
   "outputs": [
    {
     "name": "stdout",
     "output_type": "stream",
     "text": [
      " Depth 0,Root: Split on feature: 0\n",
      "- Depth 1,Left: Split on feature: 0\n",
      "-- Depth 2,Left: Split on feature: 5\n",
      "--- Depth 3,Left: Split on feature: 6\n",
      "---- Depth 4,Left: Split on feature: 4\n",
      "     ----- Depth 5, Left leaf with indices [367]\n",
      "     ----- Depth 5, Right leaf with indices [  28   38   44   68   80   81   87   99  128  174  194  201  231  233\n",
      "  235  243  260  261  269  271  280  286  292  294  296  311  321  337\n",
      "  342  374  393  396  411  420  432  448  455  459  470  471  497  536\n",
      "  551  554  568  575  577  583  617  623  625  633  653  677  683  689\n",
      "  704  709  714  746  759  763  776  778  779  793  805  830  870  873\n",
      "  892  909  961  975  978  989  992  996 1021 1032 1035 1053 1059 1062\n",
      " 1064 1067 1081 1084 1098 1106 1116 1118 1154 1159 1171 1206 1218 1249\n",
      " 1278 1289 1301 1313 1315 1327 1337 1343 1355 1356 1374 1381 1388 1393\n",
      " 1407 1413 1437 1464 1473 1491 1506 1530 1553 1555 1568 1571 1595]\n",
      "---- Depth 4,Right: Split on feature: 6\n",
      "     ----- Depth 5, Left leaf with indices [  13  116  159  177  183  218  347  359  574  626  666  739  801  835\n",
      "  955  963  988 1054 1074 1087 1103 1129 1161 1371 1395 1443 1516 1518]\n",
      "     ----- Depth 5, Right leaf with indices [  41  130  202  397  419  468  571  636  647  744  752  797  811  935\n",
      " 1033 1151 1299 1346 1362 1387 1574]\n",
      "--- Depth 3,Right: Split on feature: 3\n",
      "---- Depth 4,Left: Split on feature: 6\n",
      "     ----- Depth 5, Left leaf with indices [   1    7   11   20   26   27   30   37   39   43   45   49   51   54\n",
      "   59   62   65   72   74   75   88   92   98  103  104  119  134  146\n",
      "  147  148  152  153  154  163  176  181  186  200  203  207  209  210\n",
      "  212  221  228  229  232  237  239  249  251  263  264  270  275  284\n",
      "  285  298  302  313  316  318  324  325  327  349  379  399  415  443\n",
      "  446  447  449  450  451  477  480  486  490  493  494  495  499  506\n",
      "  508  521  525  530  557  560  564  566  579  586  588  592  593  596\n",
      "  604  609  611  616  618  620  621  638  641  643  654  655  657  664\n",
      "  669  678  706  710  730  737  740  743  748  751  760  762  774  777\n",
      "  784  786  791  806  808  814  818  825  827  832  836  841  851  868\n",
      "  872  876  878  881  887  894  902  904  910  925  926  928  932  933\n",
      "  937  940  942  956  957  958  960 1003 1004 1005 1007 1014 1015 1020\n",
      " 1028 1030 1031 1042 1055 1061 1085 1086 1092 1102 1112 1119 1125 1126\n",
      " 1127 1131 1155 1157 1163 1167 1170 1175 1192 1194 1198 1199 1200 1203\n",
      " 1209 1217 1224 1226 1227 1232 1234 1243 1244 1256 1262 1263 1275 1288\n",
      " 1292 1295 1298 1311 1314 1318 1323 1328 1341 1353 1358 1361 1364 1366\n",
      " 1378 1384 1390 1392 1400 1402 1405 1419 1432 1434 1450 1465 1472 1482\n",
      " 1492 1493 1499 1505 1507 1511 1519 1522 1524 1526 1531 1533 1558 1561\n",
      " 1573 1575 1577 1578 1582 1586 1596 1597]\n",
      "     ----- Depth 5, Right leaf with indices [   2    8    9   14   18   23   25   29   31   35   40   46   50   58\n",
      "   70   73   76   91   96   97  100  110  123  125  133  162  165  171\n",
      "  180  188  191  192  195  197  199  211  215  217  223  240  247  252\n",
      "  255  257  258  273  281  291  297  300  305  307  308  319  329  332\n",
      "  336  339  344  354  360  365  368  375  376  386  390  395  398  403\n",
      "  407  412  425  427  437  438  440  441  444  452  461  465  478  482\n",
      "  487  514  516  527  533  534  545  555  559  563  569  582  589  591\n",
      "  594  599  601  605  606  629  630  631  646  650  656  658  662  670\n",
      "  675  687  692  694  697  712  713  715  719  728  735  738  745  749\n",
      "  754  756  757  761  765  768  771  788  789  795  799  800  804  809\n",
      "  810  816  826  833  839  844  847  860  862  871  880  889  913  916\n",
      "  917  924  930  936  939  945  946  947  964  968  969  973  983  985\n",
      "  995 1008 1012 1013 1017 1037 1043 1063 1065 1077 1079 1082 1094 1111\n",
      " 1113 1120 1121 1132 1136 1137 1142 1144 1147 1158 1160 1176 1180 1185\n",
      " 1189 1193 1196 1207 1210 1212 1213 1221 1222 1231 1240 1247 1257 1261\n",
      " 1268 1270 1272 1276 1279 1282 1284 1287 1304 1309 1317 1319 1325 1339\n",
      " 1340 1342 1347 1348 1350 1359 1360 1365 1367 1375 1377 1389 1394 1397\n",
      " 1404 1412 1414 1427 1439 1441 1448 1449 1460 1461 1471 1474 1478 1480\n",
      " 1486 1487 1490 1494 1495 1496 1514 1521 1532 1534 1541 1542 1554 1565\n",
      " 1567 1569 1589 1593]\n",
      "    ---- Depth 4, Right leaf with indices [900]\n",
      "-- Depth 2,Right: Split on feature: 6\n",
      "--- Depth 3,Left: Split on feature: 0\n",
      "---- Depth 4,Left: Split on feature: 5\n",
      "     ----- Depth 5, Left leaf with indices [   0   67  108  111  114  117  129  136  160  230  245  254  262  272\n",
      "  274  279  314  330  334  341  346  352  353  378  385  406  414  439\n",
      "  454  460  463  475  476  511  513  519  523  524  543  550  553  565\n",
      "  651  688  691  705  718  721  758  770  823  846  858  865  869  884\n",
      "  891  908  920  950  962  972  999 1024 1046 1068 1073 1083 1091 1095\n",
      " 1101 1107 1156 1214 1216 1239 1260 1283 1296 1316 1326 1357 1396 1410\n",
      " 1428 1444 1446 1497 1504 1513 1523 1535 1540 1546 1557 1572 1587]\n",
      "     ----- Depth 5, Right leaf with indices [   4   22   34   52   56   61   63   64   66   82   83   84   85   95\n",
      "  105  140  145  172  173  208  214  225  265  289  295  303  306  320\n",
      "  326  328  382  389  409  410  416  430  435  464  467  469  472  483\n",
      "  484  485  491  507  509  510  529  541  544  552  556  561  584  587\n",
      "  600  602  610  619  634  637  667  671  673  686  693  707  708  732\n",
      "  767  775  781  782  783  785  787  796  820  834  845  859  875  893\n",
      "  896  906  911  921  927  931  938  944  966  974  990  991 1009 1039\n",
      " 1040 1044 1076 1089 1096 1109 1110 1122 1128 1130 1135 1140 1146 1153\n",
      " 1162 1168 1197 1202 1220 1228 1229 1237 1242 1271 1285 1286 1307 1308\n",
      " 1334 1336 1344 1349 1373 1406 1411 1417 1429 1435 1451 1458 1462 1463\n",
      " 1466 1481 1484 1488 1489 1498 1515 1528 1547 1552 1556 1560 1566 1584]\n",
      "---- Depth 4,Right: Split on feature: 5\n",
      "     ----- Depth 5, Left leaf with indices [  32   60  139  157  170  193  222  227  242  248  309  315  331  366\n",
      "  372  388  418  474  532  595  639  676  724  812  815  829  857  899\n",
      "  976  994 1011 1018 1052 1108 1134 1178 1182 1183 1211 1246 1274 1294\n",
      " 1302 1321 1363 1382 1420 1455 1520]\n",
      "     ----- Depth 5, Right leaf with indices [  12   53   93   94  106  112  115  120  122  124  126  131  135  141\n",
      "  144  150  161  216  224  276  277  310  312  350  357  361  373  381\n",
      "  394  405  424  428  453  466  501  503  538  558  576  581  607  627\n",
      "  632  635  668  674  703  736  772  792  803  842  850  867  886  903\n",
      "  979  987  993 1016 1019 1022 1058 1069 1088 1100 1172 1174 1186 1195\n",
      " 1205 1208 1252 1259 1273 1331 1335 1351 1352 1376 1380 1408 1442 1447\n",
      " 1459 1510 1517 1525 1551]\n",
      "--- Depth 3,Right: Split on feature: 0\n",
      "---- Depth 4,Left: Split on feature: 7\n",
      "     ----- Depth 5, Left leaf with indices [  10   33   42   79  151  155  166  187  204  253  256  268  283  293\n",
      "  301  362  391  413  421  436  488  500  526  540  542  573  640  645\n",
      "  663  672  726  731  734  822  840  843  861  864  882  943  959 1026\n",
      " 1027 1029 1049 1050 1057 1066 1124 1145 1150 1251 1265 1280 1297 1333\n",
      " 1379 1398 1475 1501 1539 1543 1592 1599]\n",
      "     ----- Depth 5, Right leaf with indices [  77  179  518  684  685  700  780 1330 1385 1431 1588]\n",
      "---- Depth 4,Right: Split on feature: 3\n",
      "     ----- Depth 5, Left leaf with indices [   6   21   71   78  101  113  127  132  142  143  167  168  189  198\n",
      "  205  213  219  238  241  266  267  278  287  299  317  323  335  369\n",
      "  371  377  384  422  433  434  473  479  502  512  528  531  537  546\n",
      "  548  549  572  590  597  598  612  614  622  642  661  665  681  690\n",
      "  696  720  722  723  727  741  753  755  766  769  790  798  831  838\n",
      "  854  866  879  885  890  898  901  912  918  919  948  965  986  998\n",
      " 1001 1025 1051 1070 1115 1148 1165 1181 1187 1190 1219 1225 1236 1238\n",
      " 1250 1264 1266 1269 1291 1324 1354 1369 1370 1399 1409 1423 1430 1436\n",
      " 1456 1457 1483 1503 1508 1509 1536 1549 1550 1564 1576 1581 1594 1598]\n",
      "     ----- Depth 5, Right leaf with indices [1047 1048 1204 1425]\n",
      "- Depth 1,Right: Split on feature: 0\n",
      "-- Depth 2,Left: Split on feature: 6\n",
      "--- Depth 3,Left: Split on feature: 6\n",
      "---- Depth 4,Left: Split on feature: 0\n",
      "     ----- Depth 5, Left leaf with indices [ 121  190  220  226  408  505  515  547  562  580  585  701  729  742\n",
      "  802  807  824  874  877  897  905  934  954 1023 1093 1105 1133 1138\n",
      " 1173 1191 1201 1230 1235 1241 1281 1300 1403 1421 1438 1445 1470 1479\n",
      " 1500 1563 1580 1591]\n",
      "     ----- Depth 5, Right leaf with indices [  57   86   89   90  175  182  259  356  417  445  498  567  679  929\n",
      "  953  984 1000 1090 1099 1123 1143 1223 1277 1290 1305 1338 1345 1416\n",
      " 1433 1453 1469 1529]\n",
      "---- Depth 4,Right: Split on feature: 6\n",
      "     ----- Depth 5, Left leaf with indices [  19   24   36  185  206  290  333  400  458  492  570  578  613  644\n",
      "  659  698  821  849  856  883  952  967  970 1056 1071 1117 1152 1179\n",
      " 1267 1320 1418]\n",
      "     ----- Depth 5, Right leaf with indices [   5  102  109  184  244  340  370  380  426  429  496  520  615  624\n",
      "  695  733  848  855  949  977  980  997 1097 1104 1114 1177 1293 1383\n",
      " 1468 1583]\n",
      "--- Depth 3,Right: Split on feature: 0\n",
      "---- Depth 4,Left: Split on feature: 7\n",
      "     ----- Depth 5, Left leaf with indices [ 149  236  304  343  345  355  363  364  392  504  603  628  648  649\n",
      "  652  660  717  819  895  914  981 1002 1139 1166 1215 1253 1312 1332\n",
      " 1368 1401 1545 1562 1590]\n",
      "     ----- Depth 5, Right leaf with indices [  16  348  358  401  682  813  817  853 1254 1415 1476 1537 1538 1548\n",
      " 1559]\n",
      "---- Depth 4,Right: Split on feature: 7\n",
      "     ----- Depth 5, Left leaf with indices [1078 1502]\n",
      "     ----- Depth 5, Right leaf with indices [138 383 387]\n",
      "-- Depth 2,Right: Split on feature: 0\n",
      "--- Depth 3,Left: Split on feature: 0\n",
      "---- Depth 4,Left: Split on feature: 2\n",
      "     ----- Depth 5, Left leaf with indices [ 608  699 1422 1424 1467]\n",
      "     ----- Depth 5, Right leaf with indices [  55  158  164  196  234  402  404  423  431  456  489  711  716  764\n",
      "  773  907  923  941  951  982 1006 1010 1038 1041 1045 1072 1080 1169\n",
      " 1245 1303 1322 1372 1440 1454 1485 1570 1579]\n",
      "---- Depth 4,Right: Split on feature: 2\n",
      "     ----- Depth 5, Left leaf with indices [   3   48   69  338  351  442  481  517  522  535  747  837  852  863\n",
      "  922 1149 1164 1248 1258 1310 1477 1527]\n",
      "     ----- Depth 5, Right leaf with indices [  15   17  118  169  750  794  828 1034 1060 1141 1184 1386 1452 1544]\n",
      "--- Depth 3,Right: Split on feature: 4\n",
      "---- Depth 4,Left: Split on feature: 5\n",
      "     ----- Depth 5, Left leaf with indices [ 539 1426]\n",
      "     ----- Depth 5, Right leaf with indices [ 137  250  322  462  680  702  971 1036 1075 1255 1391 1585]\n",
      "---- Depth 4,Right: Split on feature: 2\n",
      "     ----- Depth 5, Left leaf with indices [107]\n",
      "     ----- Depth 5, Right leaf with indices [  47  156  178  246  282  288  457  725  888  915 1188 1233 1306 1329\n",
      " 1512]\n"
     ]
    }
   ],
   "source": [
    "DTR.build_tree(max_depth=5, print_opt=True)"
   ]
  },
  {
   "cell_type": "code",
   "execution_count": 41,
   "id": "c0744361-48a8-43a2-a9ec-5cfdda8b366d",
   "metadata": {},
   "outputs": [
    {
     "name": "stdout",
     "output_type": "stream",
     "text": [
      "Mean squared error\n",
      "MSE on train set: 0.19237731598631663\n",
      "MSE on test set: 0.2908959857309358\n"
     ]
    }
   ],
   "source": [
    "DTR_train_error = DTR.measure_error(DTR.tree, X_reg_train, y_reg_train)\n",
    "DTR_test_error = DTR.measure_error(DTR.tree, X_reg_test, y_reg_test)\n",
    "\n",
    "print(\"Mean squared error\")\n",
    "print(f\"MSE on train set: {DTR_train_error}\")\n",
    "print(f\"MSE on test set: {DTR_test_error}\")"
   ]
  },
  {
   "cell_type": "markdown",
   "id": "32e9827b-4465-480a-8f40-35c09e91868a",
   "metadata": {},
   "source": [
    "Looks like high variance!"
   ]
  },
  {
   "cell_type": "markdown",
   "id": "55b6060f-cbb4-4cc3-b622-3d6aa5e7b733",
   "metadata": {},
   "source": [
    "## Bagging"
   ]
  },
  {
   "cell_type": "code",
   "execution_count": 7,
   "id": "0d969e72-15e5-4282-84e7-342de0cebc0a",
   "metadata": {},
   "outputs": [],
   "source": [
    "BR = RandomForest(X_reg_train, y_reg_train, 'regression')"
   ]
  },
  {
   "cell_type": "markdown",
   "id": "a6addfed-1f48-4e65-8529-deba220968f2",
   "metadata": {},
   "source": [
    "Bagging can be achieved using the RandomForest class by considering all the features at every split. This is achieved by setting the <i>num_features</i> parameter to 'all'."
   ]
  },
  {
   "cell_type": "code",
   "execution_count": 8,
   "id": "9173e89d-3e09-4925-b082-9ce152244931",
   "metadata": {
    "scrolled": true
   },
   "outputs": [
    {
     "name": "stdout",
     "output_type": "stream",
     "text": [
      "Bulding Tree 1.......\n",
      "Bulding Tree 2.......\n",
      "Bulding Tree 3.......\n",
      "Bulding Tree 4.......\n",
      "Bulding Tree 5.......\n",
      "Bulding Tree 6.......\n",
      "Bulding Tree 7.......\n",
      "Bulding Tree 8.......\n",
      "Bulding Tree 9.......\n",
      "Bulding Tree 10.......\n",
      "Bulding Tree 11.......\n",
      "Bulding Tree 12.......\n",
      "Bulding Tree 13.......\n",
      "Bulding Tree 14.......\n",
      "Bulding Tree 15.......\n",
      "Bulding Tree 16.......\n",
      "Bulding Tree 17.......\n",
      "Bulding Tree 18.......\n",
      "Bulding Tree 19.......\n",
      "Bulding Tree 20.......\n",
      "Bulding Tree 21.......\n",
      "Bulding Tree 22.......\n",
      "Bulding Tree 23.......\n",
      "Bulding Tree 24.......\n",
      "Bulding Tree 25.......\n",
      "Bulding Tree 26.......\n",
      "Bulding Tree 27.......\n",
      "Bulding Tree 28.......\n",
      "Bulding Tree 29.......\n",
      "Bulding Tree 30.......\n",
      "Bulding Tree 31.......\n",
      "Bulding Tree 32.......\n",
      "Bulding Tree 33.......\n",
      "Bulding Tree 34.......\n",
      "Bulding Tree 35.......\n",
      "Bulding Tree 36.......\n",
      "Bulding Tree 37.......\n",
      "Bulding Tree 38.......\n",
      "Bulding Tree 39.......\n",
      "Bulding Tree 40.......\n",
      "Bulding Tree 41.......\n",
      "Bulding Tree 42.......\n",
      "Bulding Tree 43.......\n",
      "Bulding Tree 44.......\n",
      "Bulding Tree 45.......\n",
      "Bulding Tree 46.......\n",
      "Bulding Tree 47.......\n",
      "Bulding Tree 48.......\n",
      "Bulding Tree 49.......\n",
      "Bulding Tree 50.......\n",
      "Bulding Tree 51.......\n",
      "Bulding Tree 52.......\n",
      "Bulding Tree 53.......\n",
      "Bulding Tree 54.......\n",
      "Bulding Tree 55.......\n",
      "Bulding Tree 56.......\n",
      "Bulding Tree 57.......\n",
      "Bulding Tree 58.......\n",
      "Bulding Tree 59.......\n",
      "Bulding Tree 60.......\n",
      "Bulding Tree 61.......\n",
      "Bulding Tree 62.......\n",
      "Bulding Tree 63.......\n",
      "Bulding Tree 64.......\n",
      "Bulding Tree 65.......\n",
      "Bulding Tree 66.......\n",
      "Bulding Tree 67.......\n",
      "Bulding Tree 68.......\n",
      "Bulding Tree 69.......\n",
      "Bulding Tree 70.......\n",
      "Bulding Tree 71.......\n",
      "Bulding Tree 72.......\n",
      "Bulding Tree 73.......\n",
      "Bulding Tree 74.......\n",
      "Bulding Tree 75.......\n",
      "Bulding Tree 76.......\n",
      "Bulding Tree 77.......\n",
      "Bulding Tree 78.......\n",
      "Bulding Tree 79.......\n",
      "Bulding Tree 80.......\n",
      "Bulding Tree 81.......\n",
      "Bulding Tree 82.......\n",
      "Bulding Tree 83.......\n",
      "Bulding Tree 84.......\n",
      "Bulding Tree 85.......\n",
      "Bulding Tree 86.......\n",
      "Bulding Tree 87.......\n",
      "Bulding Tree 88.......\n",
      "Bulding Tree 89.......\n",
      "Bulding Tree 90.......\n",
      "Bulding Tree 91.......\n",
      "Bulding Tree 92.......\n",
      "Bulding Tree 93.......\n",
      "Bulding Tree 94.......\n",
      "Bulding Tree 95.......\n",
      "Bulding Tree 96.......\n",
      "Bulding Tree 97.......\n",
      "Bulding Tree 98.......\n",
      "Bulding Tree 99.......\n",
      "Bulding Tree 100.......\n"
     ]
    }
   ],
   "source": [
    "BR.build_ensemble(num_trees=100, max_depth=5, num_features='all')"
   ]
  },
  {
   "cell_type": "code",
   "execution_count": 9,
   "id": "4136a41b-1eed-4689-92e0-749e01ea4948",
   "metadata": {},
   "outputs": [
    {
     "name": "stdout",
     "output_type": "stream",
     "text": [
      "Mean squared error\n",
      "MSE on train set: 0.15614278456265684\n",
      "MSE on test set: 0.1878145004559861\n"
     ]
    }
   ],
   "source": [
    "BR_train_error = BR.measure_error(BR.ensemble, X_reg_train, y_reg_train)\n",
    "BR_test_error = BR.measure_error(BR.ensemble, X_reg_test, y_reg_test)\n",
    "\n",
    "print(\"Mean squared error\")\n",
    "print(f\"MSE on train set: {BR_train_error}\")\n",
    "print(f\"MSE on test set: {BR_test_error}\")"
   ]
  },
  {
   "cell_type": "markdown",
   "id": "48705701-e0dd-4448-8414-86350a084898",
   "metadata": {},
   "source": [
    " Train and test errors are quite close. No high variance problem."
   ]
  },
  {
   "cell_type": "markdown",
   "id": "9b518fab-8206-4e85-9850-430f274e156f",
   "metadata": {},
   "source": [
    "### Random Forest"
   ]
  },
  {
   "cell_type": "code",
   "execution_count": 10,
   "id": "4c171d2e-9e58-49fb-8945-d81aa077f5d2",
   "metadata": {},
   "outputs": [],
   "source": [
    "RFR = RandomForest(X_reg_train, y_reg_train, 'regression')"
   ]
  },
  {
   "cell_type": "code",
   "execution_count": 11,
   "id": "d3ed13ff-6f5a-467e-8068-181d7465d90c",
   "metadata": {
    "scrolled": true
   },
   "outputs": [
    {
     "name": "stdout",
     "output_type": "stream",
     "text": [
      "Bulding Tree 1.......\n",
      "Bulding Tree 2.......\n",
      "Bulding Tree 3.......\n",
      "Bulding Tree 4.......\n",
      "Bulding Tree 5.......\n",
      "Bulding Tree 6.......\n",
      "Bulding Tree 7.......\n",
      "Bulding Tree 8.......\n",
      "Bulding Tree 9.......\n",
      "Bulding Tree 10.......\n",
      "Bulding Tree 11.......\n",
      "Bulding Tree 12.......\n",
      "Bulding Tree 13.......\n",
      "Bulding Tree 14.......\n",
      "Bulding Tree 15.......\n",
      "Bulding Tree 16.......\n",
      "Bulding Tree 17.......\n",
      "Bulding Tree 18.......\n",
      "Bulding Tree 19.......\n",
      "Bulding Tree 20.......\n",
      "Bulding Tree 21.......\n",
      "Bulding Tree 22.......\n",
      "Bulding Tree 23.......\n",
      "Bulding Tree 24.......\n",
      "Bulding Tree 25.......\n",
      "Bulding Tree 26.......\n",
      "Bulding Tree 27.......\n",
      "Bulding Tree 28.......\n",
      "Bulding Tree 29.......\n",
      "Bulding Tree 30.......\n",
      "Bulding Tree 31.......\n",
      "Bulding Tree 32.......\n",
      "Bulding Tree 33.......\n",
      "Bulding Tree 34.......\n",
      "Bulding Tree 35.......\n",
      "Bulding Tree 36.......\n",
      "Bulding Tree 37.......\n",
      "Bulding Tree 38.......\n",
      "Bulding Tree 39.......\n",
      "Bulding Tree 40.......\n",
      "Bulding Tree 41.......\n",
      "Bulding Tree 42.......\n",
      "Bulding Tree 43.......\n",
      "Bulding Tree 44.......\n",
      "Bulding Tree 45.......\n",
      "Bulding Tree 46.......\n",
      "Bulding Tree 47.......\n",
      "Bulding Tree 48.......\n",
      "Bulding Tree 49.......\n",
      "Bulding Tree 50.......\n",
      "Bulding Tree 51.......\n",
      "Bulding Tree 52.......\n",
      "Bulding Tree 53.......\n",
      "Bulding Tree 54.......\n",
      "Bulding Tree 55.......\n",
      "Bulding Tree 56.......\n",
      "Bulding Tree 57.......\n",
      "Bulding Tree 58.......\n",
      "Bulding Tree 59.......\n",
      "Bulding Tree 60.......\n",
      "Bulding Tree 61.......\n",
      "Bulding Tree 62.......\n",
      "Bulding Tree 63.......\n",
      "Bulding Tree 64.......\n",
      "Bulding Tree 65.......\n",
      "Bulding Tree 66.......\n",
      "Bulding Tree 67.......\n",
      "Bulding Tree 68.......\n",
      "Bulding Tree 69.......\n",
      "Bulding Tree 70.......\n",
      "Bulding Tree 71.......\n",
      "Bulding Tree 72.......\n",
      "Bulding Tree 73.......\n",
      "Bulding Tree 74.......\n",
      "Bulding Tree 75.......\n",
      "Bulding Tree 76.......\n",
      "Bulding Tree 77.......\n",
      "Bulding Tree 78.......\n",
      "Bulding Tree 79.......\n",
      "Bulding Tree 80.......\n",
      "Bulding Tree 81.......\n",
      "Bulding Tree 82.......\n",
      "Bulding Tree 83.......\n",
      "Bulding Tree 84.......\n",
      "Bulding Tree 85.......\n",
      "Bulding Tree 86.......\n",
      "Bulding Tree 87.......\n",
      "Bulding Tree 88.......\n",
      "Bulding Tree 89.......\n",
      "Bulding Tree 90.......\n",
      "Bulding Tree 91.......\n",
      "Bulding Tree 92.......\n",
      "Bulding Tree 93.......\n",
      "Bulding Tree 94.......\n",
      "Bulding Tree 95.......\n",
      "Bulding Tree 96.......\n",
      "Bulding Tree 97.......\n",
      "Bulding Tree 98.......\n",
      "Bulding Tree 99.......\n",
      "Bulding Tree 100.......\n",
      "Bulding Tree 101.......\n",
      "Bulding Tree 102.......\n",
      "Bulding Tree 103.......\n",
      "Bulding Tree 104.......\n",
      "Bulding Tree 105.......\n",
      "Bulding Tree 106.......\n",
      "Bulding Tree 107.......\n",
      "Bulding Tree 108.......\n",
      "Bulding Tree 109.......\n",
      "Bulding Tree 110.......\n",
      "Bulding Tree 111.......\n",
      "Bulding Tree 112.......\n",
      "Bulding Tree 113.......\n",
      "Bulding Tree 114.......\n",
      "Bulding Tree 115.......\n",
      "Bulding Tree 116.......\n",
      "Bulding Tree 117.......\n",
      "Bulding Tree 118.......\n",
      "Bulding Tree 119.......\n",
      "Bulding Tree 120.......\n",
      "Bulding Tree 121.......\n",
      "Bulding Tree 122.......\n",
      "Bulding Tree 123.......\n",
      "Bulding Tree 124.......\n",
      "Bulding Tree 125.......\n",
      "Bulding Tree 126.......\n",
      "Bulding Tree 127.......\n",
      "Bulding Tree 128.......\n",
      "Bulding Tree 129.......\n",
      "Bulding Tree 130.......\n",
      "Bulding Tree 131.......\n",
      "Bulding Tree 132.......\n",
      "Bulding Tree 133.......\n",
      "Bulding Tree 134.......\n",
      "Bulding Tree 135.......\n",
      "Bulding Tree 136.......\n",
      "Bulding Tree 137.......\n",
      "Bulding Tree 138.......\n",
      "Bulding Tree 139.......\n",
      "Bulding Tree 140.......\n",
      "Bulding Tree 141.......\n",
      "Bulding Tree 142.......\n",
      "Bulding Tree 143.......\n",
      "Bulding Tree 144.......\n",
      "Bulding Tree 145.......\n",
      "Bulding Tree 146.......\n",
      "Bulding Tree 147.......\n",
      "Bulding Tree 148.......\n",
      "Bulding Tree 149.......\n",
      "Bulding Tree 150.......\n",
      "Bulding Tree 151.......\n",
      "Bulding Tree 152.......\n",
      "Bulding Tree 153.......\n",
      "Bulding Tree 154.......\n",
      "Bulding Tree 155.......\n",
      "Bulding Tree 156.......\n",
      "Bulding Tree 157.......\n",
      "Bulding Tree 158.......\n",
      "Bulding Tree 159.......\n",
      "Bulding Tree 160.......\n",
      "Bulding Tree 161.......\n",
      "Bulding Tree 162.......\n",
      "Bulding Tree 163.......\n",
      "Bulding Tree 164.......\n",
      "Bulding Tree 165.......\n",
      "Bulding Tree 166.......\n",
      "Bulding Tree 167.......\n",
      "Bulding Tree 168.......\n",
      "Bulding Tree 169.......\n",
      "Bulding Tree 170.......\n",
      "Bulding Tree 171.......\n",
      "Bulding Tree 172.......\n",
      "Bulding Tree 173.......\n",
      "Bulding Tree 174.......\n",
      "Bulding Tree 175.......\n",
      "Bulding Tree 176.......\n",
      "Bulding Tree 177.......\n",
      "Bulding Tree 178.......\n",
      "Bulding Tree 179.......\n",
      "Bulding Tree 180.......\n",
      "Bulding Tree 181.......\n",
      "Bulding Tree 182.......\n",
      "Bulding Tree 183.......\n",
      "Bulding Tree 184.......\n",
      "Bulding Tree 185.......\n",
      "Bulding Tree 186.......\n",
      "Bulding Tree 187.......\n",
      "Bulding Tree 188.......\n",
      "Bulding Tree 189.......\n",
      "Bulding Tree 190.......\n",
      "Bulding Tree 191.......\n",
      "Bulding Tree 192.......\n",
      "Bulding Tree 193.......\n",
      "Bulding Tree 194.......\n",
      "Bulding Tree 195.......\n",
      "Bulding Tree 196.......\n",
      "Bulding Tree 197.......\n",
      "Bulding Tree 198.......\n",
      "Bulding Tree 199.......\n",
      "Bulding Tree 200.......\n"
     ]
    }
   ],
   "source": [
    "RFR.build_ensemble(num_trees=200, num_features=4, max_depth=5)"
   ]
  },
  {
   "cell_type": "code",
   "execution_count": 12,
   "id": "e6a406ec-5a78-4f5a-acf5-742b0cb7330a",
   "metadata": {},
   "outputs": [
    {
     "name": "stdout",
     "output_type": "stream",
     "text": [
      "Mean squared error\n",
      "MSE on train set: 0.16153345388078294\n",
      "MSE on test set: 0.1796994985460148\n"
     ]
    }
   ],
   "source": [
    "RFR_train_error = RFR.measure_error(RFR.ensemble, X_reg_train, y_reg_train)\n",
    "RFR_test_error = RFR.measure_error(RFR.ensemble, X_reg_test, y_reg_test)\n",
    "\n",
    "print(\"Mean squared error\")\n",
    "print(f\"MSE on train set: {RFR_train_error}\")\n",
    "print(f\"MSE on test set: {RFR_test_error}\")"
   ]
  },
  {
   "cell_type": "markdown",
   "id": "8b98cb80-d18a-4741-a82e-8e73ba5e1a9a",
   "metadata": {},
   "source": [
    "### AdaBoost"
   ]
  },
  {
   "cell_type": "code",
   "execution_count": 13,
   "id": "e31c5855-e49c-4709-b58b-e691a5855717",
   "metadata": {},
   "outputs": [],
   "source": [
    "ABR = AdaBoostRegressor(X_reg_train, y_reg_train)"
   ]
  },
  {
   "cell_type": "code",
   "execution_count": 18,
   "id": "e2fb7871-eb2d-49d9-867f-aa40ba08c5b9",
   "metadata": {
    "scrolled": true
   },
   "outputs": [
    {
     "name": "stdout",
     "output_type": "stream",
     "text": [
      "Building learner: 1...\n",
      "Building learner: 2...\n",
      "Building learner: 3...\n",
      "Building learner: 4...\n",
      "Building learner: 5...\n",
      "Building learner: 6...\n",
      "Building learner: 7...\n",
      "Building learner: 8...\n",
      "Building learner: 9...\n",
      "Building learner: 10...\n",
      "Building learner: 11...\n",
      "Building learner: 12...\n",
      "Building learner: 13...\n",
      "Building learner: 14...\n",
      "Building learner: 15...\n",
      "Building learner: 16...\n",
      "Building learner: 17...\n",
      "Building learner: 18...\n",
      "Building learner: 19...\n",
      "Building learner: 20...\n",
      "Building learner: 21...\n",
      "Building learner: 22...\n",
      "Building learner: 23...\n",
      "Building learner: 24...\n",
      "Building learner: 25...\n",
      "Building learner: 26...\n",
      "Building learner: 27...\n",
      "Building learner: 28...\n",
      "Building learner: 29...\n",
      "Building learner: 30...\n",
      "Building learner: 31...\n",
      "Building learner: 32...\n",
      "Building learner: 33...\n",
      "Building learner: 34...\n",
      "Building learner: 35...\n",
      "Building learner: 36...\n",
      "Building learner: 37...\n",
      "Building learner: 38...\n",
      "Building learner: 39...\n",
      "Building learner: 40...\n",
      "Building learner: 41...\n",
      "Building learner: 42...\n",
      "Building learner: 43...\n",
      "Building learner: 44...\n",
      "Building learner: 45...\n",
      "Building learner: 46...\n",
      "Building learner: 47...\n",
      "Building learner: 48...\n",
      "Building learner: 49...\n",
      "Building learner: 50...\n",
      "Building learner: 51...\n",
      "Building learner: 52...\n",
      "Building learner: 53...\n",
      "Building learner: 54...\n",
      "Building learner: 55...\n",
      "Building learner: 56...\n",
      "Building learner: 57...\n",
      "Building learner: 58...\n",
      "Building learner: 59...\n",
      "Building learner: 60...\n",
      "Building learner: 61...\n",
      "Building learner: 62...\n",
      "Building learner: 63...\n",
      "Building learner: 64...\n",
      "Building learner: 65...\n",
      "Building learner: 66...\n",
      "Building learner: 67...\n",
      "Building learner: 68...\n",
      "Building learner: 69...\n",
      "Building learner: 70...\n",
      "Building learner: 71...\n",
      "Building learner: 72...\n",
      "Building learner: 73...\n",
      "Building learner: 74...\n",
      "Building learner: 75...\n",
      "Building learner: 76...\n",
      "Building learner: 77...\n",
      "Building learner: 78...\n",
      "Building learner: 79...\n",
      "Building learner: 80...\n",
      "Building learner: 81...\n",
      "Building learner: 82...\n",
      "Building learner: 83...\n",
      "Building learner: 84...\n",
      "Building learner: 85...\n",
      "Building learner: 86...\n",
      "Building learner: 87...\n",
      "Building learner: 88...\n",
      "Building learner: 89...\n",
      "Building learner: 90...\n",
      "Building learner: 91...\n",
      "Building learner: 92...\n",
      "Building learner: 93...\n",
      "Building learner: 94...\n",
      "Building learner: 95...\n",
      "Building learner: 96...\n",
      "Building learner: 97...\n",
      "Building learner: 98...\n",
      "Building learner: 99...\n",
      "Building learner: 100...\n",
      "Building learner: 101...\n",
      "Building learner: 102...\n",
      "Building learner: 103...\n",
      "Building learner: 104...\n",
      "Building learner: 105...\n",
      "Building learner: 106...\n",
      "Building learner: 107...\n",
      "Building learner: 108...\n",
      "Building learner: 109...\n",
      "Building learner: 110...\n",
      "Building learner: 111...\n",
      "Building learner: 112...\n",
      "Building learner: 113...\n",
      "Building learner: 114...\n",
      "Building learner: 115...\n",
      "Building learner: 116...\n",
      "Building learner: 117...\n",
      "Building learner: 118...\n",
      "Building learner: 119...\n",
      "Building learner: 120...\n",
      "Building learner: 121...\n",
      "Building learner: 122...\n",
      "Building learner: 123...\n",
      "Building learner: 124...\n",
      "Building learner: 125...\n",
      "Building learner: 126...\n",
      "Building learner: 127...\n",
      "Building learner: 128...\n",
      "Building learner: 129...\n",
      "Building learner: 130...\n",
      "Building learner: 131...\n",
      "Building learner: 132...\n",
      "Building learner: 133...\n",
      "Building learner: 134...\n",
      "Building learner: 135...\n",
      "Building learner: 136...\n",
      "Building learner: 137...\n",
      "Building learner: 138...\n",
      "Building learner: 139...\n",
      "Building learner: 140...\n",
      "Building learner: 141...\n",
      "Building learner: 142...\n",
      "Building learner: 143...\n",
      "Building learner: 144...\n",
      "Building learner: 145...\n",
      "Building learner: 146...\n",
      "Building learner: 147...\n",
      "Building learner: 148...\n",
      "Building learner: 149...\n",
      "Building learner: 150...\n"
     ]
    }
   ],
   "source": [
    "ABR.train(n_learners=150, depth=4, store_error=True, X_cv=X_reg_test, y_cv=y_reg_test)"
   ]
  },
  {
   "cell_type": "code",
   "execution_count": 26,
   "id": "ac4f434f-61da-4834-b233-cc4162d31075",
   "metadata": {},
   "outputs": [
    {
     "data": {
      "text/plain": [
       "<matplotlib.legend.Legend at 0x142ac3160>"
      ]
     },
     "execution_count": 26,
     "metadata": {},
     "output_type": "execute_result"
    },
    {
     "data": {
      "image/png": "[encoded data removed]",
      "text/plain": [
       "<Figure size 640x480 with 1 Axes>"
      ]
     },
     "metadata": {},
     "output_type": "display_data"
    }
   ],
   "source": [
    "plt.plot(ABR.train_error_hist, label=\"Train Error\")\n",
    "plt.plot(ABR.cv_error_hist, label=\"Test Error\")\n",
    "plt.legend()"
   ]
  },
  {
   "cell_type": "code",
   "execution_count": 20,
   "id": "dbaeb7d2-2e0f-4837-a0e4-825127687ea1",
   "metadata": {},
   "outputs": [
    {
     "name": "stdout",
     "output_type": "stream",
     "text": [
      "Mean squared error\n",
      "MSE on train set: 0.17955528327907\n",
      "MSE on test set: 0.2162268651321871\n"
     ]
    }
   ],
   "source": [
    "ABR_train_error = ABR.measure_error(ABR.learners, X_reg_train, y_reg_train)\n",
    "ABR_test_error = ABR.measure_error(ABR.learners, X_reg_test, y_reg_test)\n",
    "\n",
    "print(\"Mean squared error\")\n",
    "print(f\"MSE on train set: {ABR_train_error}\")\n",
    "print(f\"MSE on test set: {ABR_test_error}\")"
   ]
  },
  {
   "cell_type": "code",
   "execution_count": 72,
   "id": "c7b908ab-75e2-40e6-84ca-e668e33cef9c",
   "metadata": {},
   "outputs": [
    {
     "data": {
      "text/plain": [
       "[<matplotlib.lines.Line2D at 0x1438eb880>]"
      ]
     },
     "execution_count": 72,
     "metadata": {},
     "output_type": "execute_result"
    },
    {
     "data": {
      "image/png": "[encoded data removed]",
      "text/plain": [
       "<Figure size 640x480 with 1 Axes>"
      ]
     },
     "metadata": {},
     "output_type": "display_data"
    }
   ],
   "source": [
    "plt.plot(ABR.model_error_hist)"
   ]
  },
  {
   "cell_type": "markdown",
   "id": "7c9bba1a-9b0b-47a7-908d-d174915b083d",
   "metadata": {},
   "source": [
    "### GradientBoost"
   ]
  },
  {
   "cell_type": "code",
   "execution_count": 42,
   "id": "eaf97354-3bf8-48f9-804a-7d4d55dfcbce",
   "metadata": {},
   "outputs": [],
   "source": [
    "GBR = GradientBoostRegressor(X_reg_train, y_reg_train)"
   ]
  },
  {
   "cell_type": "code",
   "execution_count": null,
   "id": "64cac0d2-3658-4ce0-ba9a-0e5091791ca9",
   "metadata": {
    "scrolled": true
   },
   "outputs": [
    {
     "name": "stdout",
     "output_type": "stream",
     "text": [
      "Building tree: 1....\n",
      "Building tree: 2....\n",
      "Building tree: 3....\n",
      "Building tree: 4....\n",
      "Building tree: 5....\n",
      "Building tree: 6....\n",
      "Building tree: 7....\n",
      "Building tree: 8....\n",
      "Building tree: 9....\n",
      "Building tree: 10....\n",
      "Building tree: 11....\n",
      "Building tree: 12....\n",
      "Building tree: 13....\n",
      "Building tree: 14....\n",
      "Building tree: 15....\n",
      "Building tree: 16....\n",
      "Building tree: 17....\n",
      "Building tree: 18....\n",
      "Building tree: 19....\n",
      "Building tree: 20....\n",
      "Building tree: 21....\n",
      "Building tree: 22....\n",
      "Building tree: 23....\n",
      "Building tree: 24....\n",
      "Building tree: 25....\n",
      "Building tree: 26....\n",
      "Building tree: 27....\n",
      "Building tree: 28....\n",
      "Building tree: 29....\n",
      "Building tree: 30....\n",
      "Building tree: 31....\n",
      "Building tree: 32....\n",
      "Building tree: 33....\n",
      "Building tree: 34....\n",
      "Building tree: 35....\n",
      "Building tree: 36....\n",
      "Building tree: 37....\n",
      "Building tree: 38....\n",
      "Building tree: 39....\n",
      "Building tree: 40....\n",
      "Building tree: 41....\n",
      "Building tree: 42....\n",
      "Building tree: 43....\n",
      "Building tree: 44....\n",
      "Building tree: 45....\n",
      "Building tree: 46....\n",
      "Building tree: 47....\n",
      "Building tree: 48....\n",
      "Building tree: 49....\n",
      "Building tree: 50....\n",
      "Building tree: 51....\n",
      "Building tree: 52....\n",
      "Building tree: 53....\n",
      "Building tree: 54....\n",
      "Building tree: 55....\n",
      "Building tree: 56....\n",
      "Building tree: 57....\n",
      "Building tree: 58....\n",
      "Building tree: 59....\n",
      "Building tree: 60....\n",
      "Building tree: 61....\n",
      "Building tree: 62....\n",
      "Building tree: 63....\n",
      "Building tree: 64....\n",
      "Building tree: 65....\n",
      "Building tree: 66....\n",
      "Building tree: 67....\n",
      "Building tree: 68....\n",
      "Building tree: 69....\n",
      "Building tree: 70....\n",
      "Building tree: 71....\n",
      "Building tree: 72....\n",
      "Building tree: 73....\n",
      "Building tree: 74....\n",
      "Building tree: 75....\n",
      "Building tree: 76....\n",
      "Building tree: 77....\n",
      "Building tree: 78....\n",
      "Building tree: 79....\n",
      "Building tree: 80....\n",
      "Building tree: 81....\n",
      "Building tree: 82....\n",
      "Building tree: 83....\n",
      "Building tree: 84....\n",
      "Building tree: 85....\n",
      "Building tree: 86....\n",
      "Building tree: 87....\n",
      "Building tree: 88....\n",
      "Building tree: 89....\n",
      "Building tree: 90....\n",
      "Building tree: 91....\n",
      "Building tree: 92....\n",
      "Building tree: 93....\n",
      "Building tree: 94....\n",
      "Building tree: 95....\n",
      "Building tree: 96....\n",
      "Building tree: 97....\n",
      "Building tree: 98....\n",
      "Building tree: 99....\n",
      "Building tree: 100....\n",
      "Building tree: 101....\n",
      "Building tree: 102....\n",
      "Building tree: 103....\n",
      "Building tree: 104....\n",
      "Building tree: 105....\n",
      "Building tree: 106....\n",
      "Building tree: 107....\n",
      "Building tree: 108....\n",
      "Building tree: 109....\n",
      "Building tree: 110....\n",
      "Building tree: 111....\n",
      "Building tree: 112....\n",
      "Building tree: 113....\n",
      "Building tree: 114....\n",
      "Building tree: 115....\n",
      "Building tree: 116....\n",
      "Building tree: 117....\n",
      "Building tree: 118....\n",
      "Building tree: 119....\n",
      "Building tree: 120....\n",
      "Building tree: 121....\n",
      "Building tree: 122....\n",
      "Building tree: 123....\n",
      "Building tree: 124....\n",
      "Building tree: 125....\n",
      "Building tree: 126....\n",
      "Building tree: 127....\n",
      "Building tree: 128....\n",
      "Building tree: 129....\n",
      "Building tree: 130....\n",
      "Building tree: 131....\n",
      "Building tree: 132....\n",
      "Building tree: 133....\n",
      "Building tree: 134....\n",
      "Building tree: 135....\n",
      "Building tree: 136....\n",
      "Building tree: 137....\n",
      "Building tree: 138....\n",
      "Building tree: 139....\n",
      "Building tree: 140....\n",
      "Building tree: 141....\n",
      "Building tree: 142....\n",
      "Building tree: 143....\n",
      "Building tree: 144....\n",
      "Building tree: 145....\n",
      "Building tree: 146....\n",
      "Building tree: 147....\n",
      "Building tree: 148....\n",
      "Building tree: 149....\n",
      "Building tree: 150....\n",
      "Building tree: 151....\n",
      "Building tree: 152....\n",
      "Building tree: 153....\n",
      "Building tree: 154....\n",
      "Building tree: 155....\n",
      "Building tree: 156....\n",
      "Building tree: 157....\n",
      "Building tree: 158....\n",
      "Building tree: 159....\n",
      "Building tree: 160....\n",
      "Building tree: 161....\n",
      "Building tree: 162....\n",
      "Building tree: 163....\n",
      "Building tree: 164....\n",
      "Building tree: 165....\n",
      "Building tree: 166....\n",
      "Building tree: 167....\n",
      "Building tree: 168....\n",
      "Building tree: 169....\n",
      "Building tree: 170....\n",
      "Building tree: 171....\n",
      "Building tree: 172....\n",
      "Building tree: 173....\n",
      "Building tree: 174....\n",
      "Building tree: 175....\n",
      "Building tree: 176....\n",
      "Building tree: 177....\n",
      "Building tree: 178....\n",
      "Building tree: 179....\n",
      "Building tree: 180....\n",
      "Building tree: 181....\n",
      "Building tree: 182....\n",
      "Building tree: 183....\n",
      "Building tree: 184....\n",
      "Building tree: 185....\n",
      "Building tree: 186....\n",
      "Building tree: 187....\n",
      "Building tree: 188....\n",
      "Building tree: 189....\n",
      "Building tree: 190....\n",
      "Building tree: 191....\n",
      "Building tree: 192....\n",
      "Building tree: 193....\n",
      "Building tree: 194....\n",
      "Building tree: 195....\n"
     ]
    }
   ],
   "source": [
    "GBR.train(learning_rate=0.1, n_trees=200, max_depth=5, store_hist=True, X_cv=X_reg_test, y_cv=y_reg_test)"
   ]
  },
  {
   "cell_type": "code",
   "execution_count": null,
   "id": "c3c05490-7b9a-4cf0-9a71-b9aa56f46b67",
   "metadata": {},
   "outputs": [],
   "source": [
    "plt.plot(GBR.train_error_hist, label=\"Train Error\")\n",
    "plt.plot(GBR.cv_error_hist, label=\"Test Error\")\n",
    "plt.legend()"
   ]
  },
  {
   "cell_type": "code",
   "execution_count": null,
   "id": "5284b2b5-9278-4410-86b0-d92ee0d4c0d2",
   "metadata": {},
   "outputs": [],
   "source": [
    "GBR_train_error = GBR.compute_error(X_reg_train, y_reg_train, GBR.trees)\n",
    "GBR_test_error = GBR.compute_error(X_reg_test, y_reg_test, GBR.trees)\n",
    "\n",
    "print(\"Mean squared error\")\n",
    "print(f\"MSE on train set: {GBR_train_error}\")\n",
    "print(f\"MSE on test set: {GBR_test_error}\")"
   ]
  },
  {
   "cell_type": "markdown",
   "id": "1e382cf2-5750-4a20-bb7b-7ee099c2a585",
   "metadata": {},
   "source": [
    "## Classification"
   ]
  },
  {
   "cell_type": "markdown",
   "id": "5cad8706-aa14-4a49-8d17-bee429af8cb0",
   "metadata": {},
   "source": [
    "### Loading the dataset"
   ]
  },
  {
   "cell_type": "code",
   "execution_count": 2,
   "id": "ef9345d9-3961-4e57-985e-7863c760f4de",
   "metadata": {},
   "outputs": [
    {
     "name": "stdout",
     "output_type": "stream",
     "text": [
      "X_class shape: (1372, 4)\n",
      "y_class shape: (1372,)\n"
     ]
    }
   ],
   "source": [
    "file = 'datasets/BankNoteAuthentication.csv'\n",
    "X_class = np.genfromtxt(file, delimiter=',', usecols=(0,1,2,3), skip_header=1)\n",
    "y_class = np.genfromtxt(file, delimiter=',', usecols=4, skip_header=1)\n",
    "\n",
    "print(f\"X_class shape: {X_class.shape}\")\n",
    "print(f\"y_class shape: {y_class.shape}\")"
   ]
  },
  {
   "cell_type": "code",
   "execution_count": 23,
   "id": "24e165f7-61cb-4860-bc13-908fd9b42a2b",
   "metadata": {},
   "outputs": [
    {
     "name": "stdout",
     "output_type": "stream",
     "text": [
      "X_class_train shape: (1098, 4)\n",
      "y_class_train shape: (1098,)\n",
      "X_class_test shape: (274, 4)\n",
      "y_class_test shape: (274,)\n"
     ]
    }
   ],
   "source": [
    "random_indices_2 = list(range(X_class.shape[0]))\n",
    "random.shuffle(random_indices_2)\n",
    "\n",
    "X_class_train = X_class[random_indices_2][:1098]\n",
    "y_class_train = y_class[random_indices_2][:1098]\n",
    "\n",
    "X_class_test = X_class[random_indices_2][1098:]\n",
    "y_class_test =  y_class[random_indices_2][1098:]\n",
    "\n",
    "print(f\"X_class_train shape: {X_class_train.shape}\")\n",
    "print(f\"y_class_train shape: {y_class_train.shape}\")\n",
    "print(f\"X_class_test shape: {X_class_test.shape}\")\n",
    "print(f\"y_class_test shape: {y_class_test.shape}\")"
   ]
  },
  {
   "cell_type": "markdown",
   "id": "26b8e316-3014-45ed-840d-868d23ff48ef",
   "metadata": {},
   "source": [
    "### Decision Tree"
   ]
  },
  {
   "cell_type": "code",
   "execution_count": 24,
   "id": "575cacda-58f8-4633-b7f4-51b20bb5b3b6",
   "metadata": {},
   "outputs": [],
   "source": [
    "DTC = DecisionTree(X_class_train, y_class_train, 'classification')"
   ]
  },
  {
   "cell_type": "code",
   "execution_count": 25,
   "id": "cc690fcc-7094-4d18-8c2f-27f610769dbc",
   "metadata": {
    "scrolled": true
   },
   "outputs": [
    {
     "name": "stdout",
     "output_type": "stream",
     "text": [
      " Depth 0,Root: Split on feature: 0\n",
      "- Depth 1,Left: Split on feature: 1\n",
      "-- Depth 2,Left: Split on feature: 0\n",
      "--- Depth 3,Left: Split on feature: 2\n",
      "    ---- Depth 4, Left leaf with indices [   1    5    7   14   29   37   48   55   58   60   66   70   71   73\n",
      "   74   79   80   84   86   92   94  103  107  109  110  113  117  122\n",
      "  125  134  150  158  160  167  171  175  182  184  186  189  195  196\n",
      "  197  199  202  213  214  217  228  229  253  256  257  258  259  263\n",
      "  267  269  278  279  283  285  286  287  292  295  310  312  317  318\n",
      "  322  323  327  328  332  336  338  342  344  348  349  352  353  362\n",
      "  365  368  370  382  388  389  390  398  399  400  406  407  409  410\n",
      "  412  415  416  418  422  426  430  436  437  445  449  450  456  466\n",
      "  468  481  484  487  491  492  494  498  508  510  512  517  520  527\n",
      "  530  531  536  537  539  541  544  554  562  586  590  596  597  599\n",
      "  606  609  613  624  626  635  637  652  656  662  666  672  676  683\n",
      "  687  689  697  698  706  720  726  727  728  734  735  737  739  740\n",
      "  753  757  779  780  783  786  795  802  808  817  818  828  833  839\n",
      "  840  850  851  853  856  858  859  863  873  881  886  888  889  897\n",
      "  899  911  918  920  923  924  940  941  950  951  956  967  975  986\n",
      "  993 1001 1007 1008 1009 1014 1019 1020 1028 1036 1039 1050 1054 1059\n",
      " 1060 1062 1068 1076 1081 1084 1085 1088 1090 1094 1095]\n",
      "---- Depth 4,Right: Split on feature: 1\n",
      "     ----- Depth 5, Left leaf with indices [   6   11   18   24   43   76   81  108  118  144  166  204  206  208\n",
      "  211  218  221  225  231  237  242  243  260  268  277  284  288  303\n",
      "  329  334  374  384  401  417  419  453  463  467  478  490  502  525\n",
      "  546  569  582  583  592  598  601  605  608  618  632  650  654  659\n",
      "  688  690  692  714  741  745  765  774  793  797  799  801  806  815\n",
      "  820  838  852  864  867  872  887  905  926  934  937  954  959  960\n",
      "  966  980  982  985 1018 1035 1061 1066 1069 1072 1079 1093]\n",
      "     ----- Depth 5, Right leaf with indices [ 21  96 105 207 255 309 413 457 645 788 894]\n",
      "--- Depth 3,Right: Split on feature: 2\n",
      "    ---- Depth 4, Left leaf with indices [   8   12   30   39   44   51   52   57   59   68   98  104  112  123\n",
      "  142  146  148  177  210  247  251  261  320  326  357  376  386  395\n",
      "  432  459  470  482  504  505  509  534  575  587  588  612  619  648\n",
      "  670  677  711  712  715  721  725  738  764  771  807  836  843  865\n",
      "  882  896  910  915  927  953  973  976  983 1032 1033 1049 1091]\n",
      "---- Depth 4,Right: Split on feature: 3\n",
      "----- Depth 5,Left: Split on feature: 2\n",
      "------ Depth 6,Left: Split on feature: 2\n",
      "       ------- Depth 7, Left leaf with indices [641 651 675]\n",
      "       ------- Depth 7, Right leaf with indices [938]\n",
      "      ------ Depth 6, Right leaf with indices [  36   46   83   97  126  147  173  174  235  245  270  361  363  366\n",
      "  380  394  454  489  516  543  568  574  607  631  665  719  754  824\n",
      "  848  855  930  995 1003]\n",
      "----- Depth 5,Right: Split on feature: 2\n",
      "      ------ Depth 6, Left leaf with indices [ 232  274  355  423  581  603  705  731  998 1012]\n",
      "      ------ Depth 6, Right leaf with indices [560 847]\n",
      "-- Depth 2,Right: Split on feature: 0\n",
      "--- Depth 3,Left: Split on feature: 3\n",
      "    ---- Depth 4, Left leaf with indices [  56   75   88   89  116  143  149  159  192  227  234  272  275  316\n",
      "  321  335  351  465  522  550  602  642  667  682  701  709  710  758\n",
      "  875  884  890  981  989 1040 1058]\n",
      "    ---- Depth 4, Right leaf with indices [429]\n",
      "--- Depth 3,Right: Split on feature: 2\n",
      "    ---- Depth 4, Left leaf with indices [290]\n",
      "    ---- Depth 4, Right leaf with indices [   0   19   23   31   38   41   63   64   78   87   90  135  139  145\n",
      "  155  181  188  201  219  236  262  276  305  330  346  371  424  425\n",
      "  433  434  435  439  444  447  448  469  479  486  497  513  514  515\n",
      "  523  533  556  563  565  571  577  578  589  591  593  617  628  633\n",
      "  644  647  658  673  685  686  691  699  700  707  729  743  744  751\n",
      "  759  762  769  770  777  789  805  810  811  812  821  830  909  912\n",
      "  919  928  929  932  942  946  947  955  970  988 1011 1034 1041 1045\n",
      " 1047 1051 1077 1082 1083 1089 1092 1096]\n",
      "- Depth 1,Right: Split on feature: 2\n",
      "-- Depth 2,Left: Split on feature: 1\n",
      "--- Depth 3,Left: Split on feature: 0\n",
      "    ---- Depth 4, Left leaf with indices [  15   47   54  198  203  301  383  403  405  408  427  471  473  476\n",
      "  493  551  557  558  614  655  664  668  749  750  767  798  826  917\n",
      "  925  957  972  978 1044]\n",
      "    ---- Depth 4, Right leaf with indices [187]\n",
      "   --- Depth 3, Right leaf with indices [   9   13   20   40   45   93   95   99  111  120  127  128  131  133\n",
      "  136  141  157  168  169  170  178  179  185  190  194  200  205  220\n",
      "  222  226  241  244  266  271  281  293  298  300  307  313  319  324\n",
      "  333  337  347  364  367  375  377  379  387  391  397  411  421  431\n",
      "  452  461  462  483  501  503  507  524  535  540  553  573  576  610\n",
      "  646  653  660  704  718  736  746  748  752  756  761  768  773  778\n",
      "  781  785  791  800  804  809  813  829  834  842  854  861  866  869\n",
      "  874  877  892  893  903  908  916  944  945  963  987 1013 1015 1017\n",
      " 1025 1026 1053 1057 1067 1074 1086 1087 1097]\n",
      "  -- Depth 2, Right leaf with indices [   2    3    4   10   16   17   22   25   26   27   28   32   33   34\n",
      "   35   42   49   50   53   61   62   65   67   69   72   77   82   85\n",
      "   91  100  101  102  106  114  115  119  121  124  129  130  132  137\n",
      "  138  140  151  152  153  154  156  161  162  163  164  165  172  176\n",
      "  180  183  191  193  209  212  215  216  223  224  230  233  238  239\n",
      "  240  246  248  249  250  252  254  264  265  273  280  282  289  291\n",
      "  294  296  297  299  302  304  306  308  311  314  315  325  331  339\n",
      "  340  341  343  345  350  354  356  358  359  360  369  372  373  378\n",
      "  381  385  392  393  396  402  404  414  420  428  438  440  441  442\n",
      "  443  446  451  455  458  460  464  472  474  475  477  480  485  488\n",
      "  495  496  499  500  506  511  518  519  521  526  528  529  532  538\n",
      "  542  545  547  548  549  552  555  559  561  564  566  567  570  572\n",
      "  579  580  584  585  594  595  600  604  611  615  616  620  621  622\n",
      "  623  625  627  629  630  634  636  638  639  640  643  649  657  661\n",
      "  663  669  671  674  678  679  680  681  684  693  694  695  696  702\n",
      "  703  708  713  716  717  722  723  724  730  732  733  742  747  755\n",
      "  760  763  766  772  775  776  782  784  787  790  792  794  796  803\n",
      "  814  816  819  822  823  825  827  831  832  835  837  841  844  845\n",
      "  846  849  857  860  862  868  870  871  876  878  879  880  883  885\n",
      "  891  895  898  900  901  902  904  906  907  913  914  921  922  931\n",
      "  933  935  936  939  943  948  949  952  958  961  962  964  965  968\n",
      "  969  971  974  977  979  984  990  991  992  994  996  997  999 1000\n",
      " 1002 1004 1005 1006 1010 1016 1021 1022 1023 1024 1027 1029 1030 1031\n",
      " 1037 1038 1042 1043 1046 1048 1052 1055 1056 1063 1064 1065 1070 1071\n",
      " 1073 1075 1078 1080]\n"
     ]
    }
   ],
   "source": [
    "DTC.build_tree(max_depth=10)"
   ]
  },
  {
   "cell_type": "code",
   "execution_count": 26,
   "id": "144c50c4-d220-42fb-90f2-8939327d9455",
   "metadata": {},
   "outputs": [
    {
     "name": "stdout",
     "output_type": "stream",
     "text": [
      "% of misclassified examples\n",
      "In train set: 0.0\n",
      "In test set: 1.094890510948905\n"
     ]
    }
   ],
   "source": [
    "DTC_train_error = DTC.measure_error(DTC.tree, X_class_train, y_class_train)\n",
    "DTC_test_error = DTC.measure_error(DTC.tree, X_class_test, y_class_test)\n",
    "\n",
    "print(\"% of misclassified examples\")\n",
    "print(f\"In train set: {DTC_train_error*100}\")\n",
    "print(f\"In test set: {DTC_test_error*100}\")"
   ]
  },
  {
   "cell_type": "markdown",
   "id": "a6d0374f-932f-4814-a6ac-24811d4988bf",
   "metadata": {},
   "source": [
    "### Bagging"
   ]
  },
  {
   "cell_type": "code",
   "execution_count": 33,
   "id": "d4da6f14-4e50-4f12-a4f2-a7434f106c21",
   "metadata": {},
   "outputs": [],
   "source": [
    "BC = RandomForest(X_class_train, y_class_train, 'classification')"
   ]
  },
  {
   "cell_type": "code",
   "execution_count": 34,
   "id": "8745e544-f67a-40a4-9864-4f15f927395b",
   "metadata": {
    "scrolled": true
   },
   "outputs": [
    {
     "name": "stdout",
     "output_type": "stream",
     "text": [
      "Bulding Tree 1.......\n",
      "Bulding Tree 2.......\n",
      "Bulding Tree 3.......\n",
      "Bulding Tree 4.......\n",
      "Bulding Tree 5.......\n",
      "Bulding Tree 6.......\n",
      "Bulding Tree 7.......\n",
      "Bulding Tree 8.......\n",
      "Bulding Tree 9.......\n",
      "Bulding Tree 10.......\n",
      "Bulding Tree 11.......\n",
      "Bulding Tree 12.......\n",
      "Bulding Tree 13.......\n",
      "Bulding Tree 14.......\n",
      "Bulding Tree 15.......\n",
      "Bulding Tree 16.......\n",
      "Bulding Tree 17.......\n",
      "Bulding Tree 18.......\n",
      "Bulding Tree 19.......\n",
      "Bulding Tree 20.......\n",
      "Bulding Tree 21.......\n",
      "Bulding Tree 22.......\n",
      "Bulding Tree 23.......\n",
      "Bulding Tree 24.......\n",
      "Bulding Tree 25.......\n",
      "Bulding Tree 26.......\n",
      "Bulding Tree 27.......\n",
      "Bulding Tree 28.......\n",
      "Bulding Tree 29.......\n",
      "Bulding Tree 30.......\n",
      "Bulding Tree 31.......\n",
      "Bulding Tree 32.......\n",
      "Bulding Tree 33.......\n",
      "Bulding Tree 34.......\n",
      "Bulding Tree 35.......\n",
      "Bulding Tree 36.......\n",
      "Bulding Tree 37.......\n",
      "Bulding Tree 38.......\n",
      "Bulding Tree 39.......\n",
      "Bulding Tree 40.......\n",
      "Bulding Tree 41.......\n",
      "Bulding Tree 42.......\n",
      "Bulding Tree 43.......\n",
      "Bulding Tree 44.......\n",
      "Bulding Tree 45.......\n",
      "Bulding Tree 46.......\n",
      "Bulding Tree 47.......\n",
      "Bulding Tree 48.......\n",
      "Bulding Tree 49.......\n",
      "Bulding Tree 50.......\n",
      "Bulding Tree 51.......\n",
      "Bulding Tree 52.......\n",
      "Bulding Tree 53.......\n",
      "Bulding Tree 54.......\n",
      "Bulding Tree 55.......\n",
      "Bulding Tree 56.......\n",
      "Bulding Tree 57.......\n",
      "Bulding Tree 58.......\n",
      "Bulding Tree 59.......\n",
      "Bulding Tree 60.......\n",
      "Bulding Tree 61.......\n",
      "Bulding Tree 62.......\n",
      "Bulding Tree 63.......\n",
      "Bulding Tree 64.......\n",
      "Bulding Tree 65.......\n",
      "Bulding Tree 66.......\n",
      "Bulding Tree 67.......\n",
      "Bulding Tree 68.......\n",
      "Bulding Tree 69.......\n",
      "Bulding Tree 70.......\n",
      "Bulding Tree 71.......\n",
      "Bulding Tree 72.......\n",
      "Bulding Tree 73.......\n",
      "Bulding Tree 74.......\n",
      "Bulding Tree 75.......\n",
      "Bulding Tree 76.......\n",
      "Bulding Tree 77.......\n",
      "Bulding Tree 78.......\n",
      "Bulding Tree 79.......\n",
      "Bulding Tree 80.......\n",
      "Bulding Tree 81.......\n",
      "Bulding Tree 82.......\n",
      "Bulding Tree 83.......\n",
      "Bulding Tree 84.......\n",
      "Bulding Tree 85.......\n",
      "Bulding Tree 86.......\n",
      "Bulding Tree 87.......\n",
      "Bulding Tree 88.......\n",
      "Bulding Tree 89.......\n",
      "Bulding Tree 90.......\n",
      "Bulding Tree 91.......\n",
      "Bulding Tree 92.......\n",
      "Bulding Tree 93.......\n",
      "Bulding Tree 94.......\n",
      "Bulding Tree 95.......\n",
      "Bulding Tree 96.......\n",
      "Bulding Tree 97.......\n",
      "Bulding Tree 98.......\n",
      "Bulding Tree 99.......\n",
      "Bulding Tree 100.......\n"
     ]
    }
   ],
   "source": [
    "BC.build_ensemble(num_trees=100, max_depth=5, num_features='all')"
   ]
  },
  {
   "cell_type": "code",
   "execution_count": 35,
   "id": "38ba08cc-8258-4bd1-a3b1-5a75091ade3e",
   "metadata": {},
   "outputs": [
    {
     "name": "stdout",
     "output_type": "stream",
     "text": [
      "% of misclassified examples\n",
      "In train set: 0.09107468123861566\n",
      "In test set: 1.094890510948905\n"
     ]
    }
   ],
   "source": [
    "BC_train_error = BC.measure_error(BC.ensemble, X_class_train, y_class_train)\n",
    "BC_test_error = BC.measure_error(BC.ensemble, X_class_test, y_class_test)\n",
    "\n",
    "print(\"% of misclassified examples\")\n",
    "print(f\"In train set: {BC_train_error*100}\")\n",
    "print(f\"In test set: {BC_test_error*100}\")"
   ]
  },
  {
   "cell_type": "markdown",
   "id": "e2cd1eaf-17e6-4020-a08a-ee944c3b0016",
   "metadata": {},
   "source": [
    "### RandomForest"
   ]
  },
  {
   "cell_type": "code",
   "execution_count": 36,
   "id": "596fff85-555f-4815-bbc2-95033272fda1",
   "metadata": {},
   "outputs": [],
   "source": [
    "RFC = RandomForest(X_class_train, y_class_train, 'classification')"
   ]
  },
  {
   "cell_type": "code",
   "execution_count": 37,
   "id": "b8f00d3e-5c07-4e0a-9590-6ea4ee600f35",
   "metadata": {
    "scrolled": true
   },
   "outputs": [
    {
     "name": "stdout",
     "output_type": "stream",
     "text": [
      "Bulding Tree 1.......\n",
      "Bulding Tree 2.......\n",
      "Bulding Tree 3.......\n",
      "Bulding Tree 4.......\n",
      "Bulding Tree 5.......\n",
      "Bulding Tree 6.......\n",
      "Bulding Tree 7.......\n",
      "Bulding Tree 8.......\n",
      "Bulding Tree 9.......\n",
      "Bulding Tree 10.......\n",
      "Bulding Tree 11.......\n",
      "Bulding Tree 12.......\n",
      "Bulding Tree 13.......\n",
      "Bulding Tree 14.......\n",
      "Bulding Tree 15.......\n",
      "Bulding Tree 16.......\n",
      "Bulding Tree 17.......\n",
      "Bulding Tree 18.......\n",
      "Bulding Tree 19.......\n",
      "Bulding Tree 20.......\n",
      "Bulding Tree 21.......\n",
      "Bulding Tree 22.......\n",
      "Bulding Tree 23.......\n",
      "Bulding Tree 24.......\n",
      "Bulding Tree 25.......\n",
      "Bulding Tree 26.......\n",
      "Bulding Tree 27.......\n",
      "Bulding Tree 28.......\n",
      "Bulding Tree 29.......\n",
      "Bulding Tree 30.......\n",
      "Bulding Tree 31.......\n",
      "Bulding Tree 32.......\n",
      "Bulding Tree 33.......\n",
      "Bulding Tree 34.......\n",
      "Bulding Tree 35.......\n",
      "Bulding Tree 36.......\n",
      "Bulding Tree 37.......\n",
      "Bulding Tree 38.......\n",
      "Bulding Tree 39.......\n",
      "Bulding Tree 40.......\n",
      "Bulding Tree 41.......\n",
      "Bulding Tree 42.......\n",
      "Bulding Tree 43.......\n",
      "Bulding Tree 44.......\n",
      "Bulding Tree 45.......\n",
      "Bulding Tree 46.......\n",
      "Bulding Tree 47.......\n",
      "Bulding Tree 48.......\n",
      "Bulding Tree 49.......\n",
      "Bulding Tree 50.......\n",
      "Bulding Tree 51.......\n",
      "Bulding Tree 52.......\n",
      "Bulding Tree 53.......\n",
      "Bulding Tree 54.......\n",
      "Bulding Tree 55.......\n",
      "Bulding Tree 56.......\n",
      "Bulding Tree 57.......\n",
      "Bulding Tree 58.......\n",
      "Bulding Tree 59.......\n",
      "Bulding Tree 60.......\n",
      "Bulding Tree 61.......\n",
      "Bulding Tree 62.......\n",
      "Bulding Tree 63.......\n",
      "Bulding Tree 64.......\n",
      "Bulding Tree 65.......\n",
      "Bulding Tree 66.......\n",
      "Bulding Tree 67.......\n",
      "Bulding Tree 68.......\n",
      "Bulding Tree 69.......\n",
      "Bulding Tree 70.......\n",
      "Bulding Tree 71.......\n",
      "Bulding Tree 72.......\n",
      "Bulding Tree 73.......\n",
      "Bulding Tree 74.......\n",
      "Bulding Tree 75.......\n",
      "Bulding Tree 76.......\n",
      "Bulding Tree 77.......\n",
      "Bulding Tree 78.......\n",
      "Bulding Tree 79.......\n",
      "Bulding Tree 80.......\n",
      "Bulding Tree 81.......\n",
      "Bulding Tree 82.......\n",
      "Bulding Tree 83.......\n",
      "Bulding Tree 84.......\n",
      "Bulding Tree 85.......\n",
      "Bulding Tree 86.......\n",
      "Bulding Tree 87.......\n",
      "Bulding Tree 88.......\n",
      "Bulding Tree 89.......\n",
      "Bulding Tree 90.......\n",
      "Bulding Tree 91.......\n",
      "Bulding Tree 92.......\n",
      "Bulding Tree 93.......\n",
      "Bulding Tree 94.......\n",
      "Bulding Tree 95.......\n",
      "Bulding Tree 96.......\n",
      "Bulding Tree 97.......\n",
      "Bulding Tree 98.......\n",
      "Bulding Tree 99.......\n",
      "Bulding Tree 100.......\n"
     ]
    }
   ],
   "source": [
    "RFC.build_ensemble(num_trees=100, num_features=2, max_depth=5)"
   ]
  },
  {
   "cell_type": "code",
   "execution_count": 38,
   "id": "687854bf-92d4-4514-b02c-52eaaae83ffd",
   "metadata": {},
   "outputs": [
    {
     "name": "stdout",
     "output_type": "stream",
     "text": [
      "% of misclassified examples\n",
      "In train set: 1.366120218579235\n",
      "In test set: 1.824817518248175\n"
     ]
    }
   ],
   "source": [
    "RFC_train_error = RFC.measure_error(RFC.ensemble, X_class_train, y_class_train)\n",
    "RFC_test_error = RFC.measure_error(RFC.ensemble, X_class_test, y_class_test)\n",
    "\n",
    "print(\"% of misclassified examples\")\n",
    "print(f\"In train set: {RFC_train_error*100}\")\n",
    "print(f\"In test set: {RFC_test_error*100}\")"
   ]
  },
  {
   "cell_type": "markdown",
   "id": "7e9fc7f0-14fd-446b-a368-a4693da45a95",
   "metadata": {},
   "source": [
    "### AdaBoost"
   ]
  },
  {
   "cell_type": "code",
   "execution_count": 23,
   "id": "67830cfa-9cdb-4b84-8587-6ff0f5e0bea0",
   "metadata": {},
   "outputs": [],
   "source": [
    "ABC = AdaBoostClassifier(X_class_train, y_class_train)"
   ]
  },
  {
   "cell_type": "code",
   "execution_count": 30,
   "id": "e1f6db45-ab48-45e5-ae9f-47b989b95673",
   "metadata": {},
   "outputs": [
    {
     "name": "stdout",
     "output_type": "stream",
     "text": [
      "Building learner: 1....\n",
      "Building learner: 2....\n",
      "Building learner: 3....\n",
      "Building learner: 4....\n",
      "Building learner: 5....\n",
      "Building learner: 6....\n",
      "Building learner: 7....\n",
      "Building learner: 8....\n",
      "Building learner: 9....\n",
      "Building learner: 10....\n",
      "Building learner: 11....\n",
      "Building learner: 12....\n",
      "Building learner: 13....\n",
      "Building learner: 14....\n",
      "Building learner: 15....\n",
      "Building learner: 16....\n",
      "Building learner: 17....\n",
      "Building learner: 18....\n",
      "Building learner: 19....\n",
      "Building learner: 20....\n",
      "Building learner: 21....\n",
      "Building learner: 22....\n",
      "Building learner: 23....\n",
      "Building learner: 24....\n",
      "Building learner: 25....\n",
      "Building learner: 26....\n",
      "Building learner: 27....\n",
      "Building learner: 28....\n",
      "Building learner: 29....\n",
      "Building learner: 30....\n",
      "Building learner: 31....\n",
      "Building learner: 32....\n",
      "Building learner: 33....\n",
      "Building learner: 34....\n",
      "Building learner: 35....\n",
      "Building learner: 36....\n",
      "Building learner: 37....\n",
      "Building learner: 38....\n",
      "Building learner: 39....\n",
      "Building learner: 40....\n"
     ]
    }
   ],
   "source": [
    "ABC.train(n_learners=40, store_error=True, X_cv=X_class_test, y_cv=y_class_test)"
   ]
  },
  {
   "cell_type": "code",
   "execution_count": 31,
   "id": "3fd17ff6-011a-4134-bc8c-b8c146ee3245",
   "metadata": {},
   "outputs": [
    {
     "data": {
      "text/plain": [
       "<matplotlib.legend.Legend at 0x17f9e9e80>"
      ]
     },
     "execution_count": 31,
     "metadata": {},
     "output_type": "execute_result"
    },
    {
     "data": {
      "image/png": "[encoded data removed]",
      "text/plain": [
       "<Figure size 640x480 with 1 Axes>"
      ]
     },
     "metadata": {},
     "output_type": "display_data"
    }
   ],
   "source": [
    "plt.plot(ABC.train_error_hist, label='Train Error')\n",
    "plt.plot(ABC.cv_error_hist, label='Test Error')\n",
    "plt.legend()"
   ]
  },
  {
   "cell_type": "code",
   "execution_count": 32,
   "id": "c77ead79-6d21-4db4-93e5-5b8cdf470dbf",
   "metadata": {},
   "outputs": [
    {
     "name": "stdout",
     "output_type": "stream",
     "text": [
      "% of misclassified examples\n",
      "In train set: 0.45537340619307837\n",
      "In test set: 0.36496350364963503\n"
     ]
    }
   ],
   "source": [
    "ABC_train_error = ABC.measure_error(ABC.learners, X_class_train, y_class_train)\n",
    "ABC_test_error = ABC.measure_error(ABC.learners, X_class_test, y_class_test)\n",
    "\n",
    "print(\"% of misclassified examples\")\n",
    "print(f\"In train set: {ABC_train_error*100}\")\n",
    "print(f\"In test set: {ABC_test_error*100}\")"
   ]
  },
  {
   "cell_type": "code",
   "execution_count": 39,
   "id": "12955094-09c1-4ecb-ba8e-a001521b817b",
   "metadata": {},
   "outputs": [
    {
     "data": {
      "text/plain": [
       "[<matplotlib.lines.Line2D at 0x17f16d640>]"
      ]
     },
     "execution_count": 39,
     "metadata": {},
     "output_type": "execute_result"
    },
    {
     "data": {
      "image/png": "[encoded data removed]",
      "text/plain": [
       "<Figure size 640x480 with 1 Axes>"
      ]
     },
     "metadata": {},
     "output_type": "display_data"
    }
   ],
   "source": [
    "plt.plot(ABC.total_error_hist)"
   ]
  },
  {
   "cell_type": "markdown",
   "id": "f333eed8-df35-4822-b46c-6fb73d9abb3b",
   "metadata": {},
   "source": [
    "### GradientBoost"
   ]
  },
  {
   "cell_type": "code",
   "execution_count": 27,
   "id": "b3836863-0d49-4225-bec3-495e39e1247a",
   "metadata": {},
   "outputs": [],
   "source": [
    "GBC = GradientBoostClassifier(X_class_train, y_class_train)"
   ]
  },
  {
   "cell_type": "code",
   "execution_count": 29,
   "id": "b1861615-b68f-49fd-abe3-572786572d84",
   "metadata": {
    "scrolled": true
   },
   "outputs": [
    {
     "name": "stdout",
     "output_type": "stream",
     "text": [
      "Buidling tree: 1....\n",
      "Buidling tree: 2....\n",
      "Buidling tree: 3....\n",
      "Buidling tree: 4....\n",
      "Buidling tree: 5....\n",
      "Buidling tree: 6....\n",
      "Buidling tree: 7....\n",
      "Buidling tree: 8....\n",
      "Buidling tree: 9....\n",
      "Buidling tree: 10....\n",
      "Buidling tree: 11....\n",
      "Buidling tree: 12....\n",
      "Buidling tree: 13....\n",
      "Buidling tree: 14....\n",
      "Buidling tree: 15....\n",
      "Buidling tree: 16....\n",
      "Buidling tree: 17....\n",
      "Buidling tree: 18....\n",
      "Buidling tree: 19....\n",
      "Buidling tree: 20....\n",
      "Buidling tree: 21....\n",
      "Buidling tree: 22....\n",
      "Buidling tree: 23....\n",
      "Buidling tree: 24....\n",
      "Buidling tree: 25....\n",
      "Buidling tree: 26....\n",
      "Buidling tree: 27....\n",
      "Buidling tree: 28....\n",
      "Buidling tree: 29....\n",
      "Buidling tree: 30....\n",
      "Buidling tree: 31....\n",
      "Buidling tree: 32....\n",
      "Buidling tree: 33....\n",
      "Buidling tree: 34....\n",
      "Buidling tree: 35....\n",
      "Buidling tree: 36....\n",
      "Buidling tree: 37....\n",
      "Buidling tree: 38....\n",
      "Buidling tree: 39....\n",
      "Buidling tree: 40....\n",
      "Buidling tree: 41....\n",
      "Buidling tree: 42....\n",
      "Buidling tree: 43....\n",
      "Buidling tree: 44....\n",
      "Buidling tree: 45....\n",
      "Buidling tree: 46....\n",
      "Buidling tree: 47....\n",
      "Buidling tree: 48....\n",
      "Buidling tree: 49....\n",
      "Buidling tree: 50....\n",
      "Buidling tree: 51....\n",
      "Buidling tree: 52....\n",
      "Buidling tree: 53....\n",
      "Buidling tree: 54....\n",
      "Buidling tree: 55....\n",
      "Buidling tree: 56....\n",
      "Buidling tree: 57....\n",
      "Buidling tree: 58....\n",
      "Buidling tree: 59....\n",
      "Buidling tree: 60....\n",
      "Buidling tree: 61....\n",
      "Buidling tree: 62....\n",
      "Buidling tree: 63....\n",
      "Buidling tree: 64....\n",
      "Buidling tree: 65....\n",
      "Buidling tree: 66....\n",
      "Buidling tree: 67....\n",
      "Buidling tree: 68....\n",
      "Buidling tree: 69....\n",
      "Buidling tree: 70....\n",
      "Buidling tree: 71....\n",
      "Buidling tree: 72....\n",
      "Buidling tree: 73....\n",
      "Buidling tree: 74....\n",
      "Buidling tree: 75....\n",
      "Buidling tree: 76....\n",
      "Buidling tree: 77....\n",
      "Buidling tree: 78....\n",
      "Buidling tree: 79....\n",
      "Buidling tree: 80....\n",
      "Buidling tree: 81....\n",
      "Buidling tree: 82....\n",
      "Buidling tree: 83....\n",
      "Buidling tree: 84....\n",
      "Buidling tree: 85....\n",
      "Buidling tree: 86....\n",
      "Buidling tree: 87....\n",
      "Buidling tree: 88....\n",
      "Buidling tree: 89....\n",
      "Buidling tree: 90....\n",
      "Buidling tree: 91....\n",
      "Buidling tree: 92....\n",
      "Buidling tree: 93....\n",
      "Buidling tree: 94....\n",
      "Buidling tree: 95....\n",
      "Buidling tree: 96....\n",
      "Buidling tree: 97....\n",
      "Buidling tree: 98....\n",
      "Buidling tree: 99....\n",
      "Buidling tree: 100....\n"
     ]
    }
   ],
   "source": [
    "GBC.train(learning_rate=0.1, n_trees=100, max_depth=5, store_hist=True, X_cv=X_class_test, y_cv=y_class_test)"
   ]
  },
  {
   "cell_type": "code",
   "execution_count": 30,
   "id": "27e93529-9b35-4ae1-a334-6ccf71d45827",
   "metadata": {},
   "outputs": [
    {
     "data": {
      "text/plain": [
       "<matplotlib.legend.Legend at 0x14fc55e50>"
      ]
     },
     "execution_count": 30,
     "metadata": {},
     "output_type": "execute_result"
    },
    {
     "data": {
      "image/png": "[encoded data removed]",
      "text/plain": [
       "<Figure size 640x480 with 1 Axes>"
      ]
     },
     "metadata": {},
     "output_type": "display_data"
    }
   ],
   "source": [
    "plt.plot(GBC.train_error_hist, label='Train Error')\n",
    "plt.plot(GBC.cv_error_hist, label=\"Test Error\")\n",
    "plt.legend()"
   ]
  },
  {
   "cell_type": "markdown",
   "id": "d8a0b2f8-9960-46f6-b91b-50b9785105aa",
   "metadata": {},
   "source": [
    "The above graph shows the mean difference between actual and predicted probabilities"
   ]
  },
  {
   "cell_type": "code",
   "execution_count": 31,
   "id": "887d6e8f-a36e-4c28-9d8e-fb48fe91e64d",
   "metadata": {},
   "outputs": [
    {
     "name": "stdout",
     "output_type": "stream",
     "text": [
      "% of misclassified examples\n",
      "In train set: 0.0\n",
      "In test set: 0.7299270072992701\n"
     ]
    }
   ],
   "source": [
    "GBC_train_error = GBC.measure_error(X_class_train, y_class_train, GBC.trees, error_type=2)\n",
    "GBC_test_error = GBC.measure_error(X_class_test, y_class_test, GBC.trees, error_type=2)\n",
    "\n",
    "print(\"% of misclassified examples\")\n",
    "print(f\"In train set: {GBC_train_error*100}\")\n",
    "print(f\"In test set: {GBC_test_error*100}\")"
   ]
  }
 ],
 "metadata": {
  "kernelspec": {
   "display_name": "Python 3 (ipykernel)",
   "language": "python",
   "name": "python3"
  },
  "language_info": {
   "codemirror_mode": {
    "name": "ipython",
    "version": 3
   },
   "file_extension": ".py",
   "mimetype": "text/x-python",
   "name": "python",
   "nbconvert_exporter": "python",
   "pygments_lexer": "ipython3",
   "version": "3.9.6"
  }
 },
 "nbformat": 4,
 "nbformat_minor": 5
}
